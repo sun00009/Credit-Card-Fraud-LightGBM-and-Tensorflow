{
 "cells": [
  {
   "cell_type": "markdown",
   "id": "8467aa49",
   "metadata": {},
   "source": [
    "### CREDIT CARD FRAUD DETECTION WITH LIGHTGBM & DNN-TENSORFLOW"
   ]
  },
  {
   "cell_type": "code",
   "execution_count": 1,
   "id": "7a61e302",
   "metadata": {},
   "outputs": [],
   "source": [
    "import pandas as pd\n",
    "import numpy as np\n",
    "import tensorflow as tf\n",
    "from sklearn.model_selection import *\n",
    "from sklearn.metrics import *\n",
    "from sklearn.preprocessing import *\n",
    "from lightgbm import *"
   ]
  },
  {
   "cell_type": "code",
   "execution_count": 2,
   "id": "0c541bd4",
   "metadata": {},
   "outputs": [],
   "source": [
    "import warnings\n",
    "warnings.filterwarnings('ignore')"
   ]
  },
  {
   "cell_type": "code",
   "execution_count": 3,
   "id": "a3ee64b1",
   "metadata": {},
   "outputs": [],
   "source": [
    "dataset = pd.read_csv('creditcard.csv')"
   ]
  },
  {
   "cell_type": "code",
   "execution_count": 4,
   "id": "017a1941",
   "metadata": {},
   "outputs": [
    {
     "data": {
      "text/plain": [
       "(284807, 31)"
      ]
     },
     "execution_count": 4,
     "metadata": {},
     "output_type": "execute_result"
    }
   ],
   "source": [
    "dataset.shape"
   ]
  },
  {
   "cell_type": "code",
   "execution_count": 5,
   "id": "0e0a1aa4",
   "metadata": {},
   "outputs": [
    {
     "data": {
      "text/plain": [
       "0    284315\n",
       "1       492\n",
       "Name: Class, dtype: int64"
      ]
     },
     "execution_count": 5,
     "metadata": {},
     "output_type": "execute_result"
    }
   ],
   "source": [
    "dataset.Class.value_counts()"
   ]
  },
  {
   "cell_type": "code",
   "execution_count": 6,
   "id": "54ad81a7",
   "metadata": {},
   "outputs": [
    {
     "data": {
      "text/plain": [
       "Time      0\n",
       "V1        0\n",
       "V2        0\n",
       "V3        0\n",
       "V4        0\n",
       "V5        0\n",
       "V6        0\n",
       "V7        0\n",
       "V8        0\n",
       "V9        0\n",
       "V10       0\n",
       "V11       0\n",
       "V12       0\n",
       "V13       0\n",
       "V14       0\n",
       "V15       0\n",
       "V16       0\n",
       "V17       0\n",
       "V18       0\n",
       "V19       0\n",
       "V20       0\n",
       "V21       0\n",
       "V22       0\n",
       "V23       0\n",
       "V24       0\n",
       "V25       0\n",
       "V26       0\n",
       "V27       0\n",
       "V28       0\n",
       "Amount    0\n",
       "Class     0\n",
       "dtype: int64"
      ]
     },
     "execution_count": 6,
     "metadata": {},
     "output_type": "execute_result"
    }
   ],
   "source": [
    "dataset.isnull().sum()"
   ]
  },
  {
   "cell_type": "code",
   "execution_count": 7,
   "id": "e2c56177",
   "metadata": {},
   "outputs": [],
   "source": [
    "X = dataset.drop(columns=['Class'])\n",
    "y = dataset['Class']"
   ]
  },
  {
   "cell_type": "code",
   "execution_count": 8,
   "id": "a146635e",
   "metadata": {},
   "outputs": [],
   "source": [
    "X_train, X_test, y_train, y_test = train_test_split(X,y,test_size=0.2,random_state=1,stratify=y)"
   ]
  },
  {
   "cell_type": "code",
   "execution_count": 9,
   "id": "d11695f3",
   "metadata": {},
   "outputs": [
    {
     "data": {
      "text/plain": [
       "0    284315\n",
       "1       492\n",
       "Name: Class, dtype: int64"
      ]
     },
     "execution_count": 9,
     "metadata": {},
     "output_type": "execute_result"
    }
   ],
   "source": [
    "y.value_counts()"
   ]
  },
  {
   "cell_type": "markdown",
   "id": "991bf011",
   "metadata": {},
   "source": [
    "### LIGHTGBM"
   ]
  },
  {
   "cell_type": "code",
   "execution_count": 20,
   "id": "fdef229e",
   "metadata": {},
   "outputs": [],
   "source": [
    "lgbm = LGBMClassifier(n_estimators=1, max_depth=3, learning_rate=0.02, reg_lambda=0.3).fit(X_train,y_train)\n",
    "train = lgbm.predict(X_train)\n",
    "test = lgbm.predict(X_test)"
   ]
  },
  {
   "cell_type": "code",
   "execution_count": 21,
   "id": "0932aa7b",
   "metadata": {},
   "outputs": [
    {
     "name": "stdout",
     "output_type": "stream",
     "text": [
      "Accuracy:0.9994, Precision:0.8667, Recall:0.7959, F1:0.8298\n"
     ]
    }
   ],
   "source": [
    "print('Accuracy:{:.4f}, Precision:{:.4f}, Recall:{:.4f}, F1:{:.4f}'.format(\n",
    "        accuracy_score(y_test,test),\n",
    "        precision_score(y_test,test),\n",
    "        recall_score(y_test,test),\n",
    "        f1_score(y_test,test)))"
   ]
  },
  {
   "cell_type": "code",
   "execution_count": 22,
   "id": "f87dd112",
   "metadata": {
    "scrolled": true
   },
   "outputs": [
    {
     "name": "stdout",
     "output_type": "stream",
     "text": [
      "              precision    recall  f1-score   support\n",
      "\n",
      "           0       1.00      1.00      1.00     56864\n",
      "           1       0.87      0.80      0.83        98\n",
      "\n",
      "    accuracy                           1.00     56962\n",
      "   macro avg       0.93      0.90      0.91     56962\n",
      "weighted avg       1.00      1.00      1.00     56962\n",
      "\n"
     ]
    }
   ],
   "source": [
    "print(classification_report(y_test,test))"
   ]
  },
  {
   "cell_type": "code",
   "execution_count": 23,
   "id": "64154abb",
   "metadata": {},
   "outputs": [
    {
     "name": "stdout",
     "output_type": "stream",
     "text": [
      "[[56852    12]\n",
      " [   20    78]]\n"
     ]
    }
   ],
   "source": [
    "print(confusion_matrix(y_test,test))"
   ]
  },
  {
   "cell_type": "code",
   "execution_count": 19,
   "id": "aca4f70f",
   "metadata": {},
   "outputs": [],
   "source": [
    "# for estimator in (x*0.1 for x in range(1,100)):\n",
    "#     lgbm = LGBMClassifier(n_estimators=1, max_depth=3, learning_rate=0.02, reg_lambda=estimator).fit(X_train,y_train)\n",
    "#     train = lgbm.predict(X_train)\n",
    "#     test = lgbm.predict(X_test)\n",
    "#     print('Estimator:{}, Accuracy:{:.4f}, Precision:{:.4f}, Recall:{:.4f}, F1:{:.4f}'.format(estimator,\n",
    "#         accuracy_score(y_test,test),\n",
    "#         precision_score(y_test,test),\n",
    "#         recall_score(y_test,test),\n",
    "#         f1_score(y_test,test)))"
   ]
  },
  {
   "cell_type": "markdown",
   "id": "e2db9548",
   "metadata": {},
   "source": [
    "### DNN"
   ]
  },
  {
   "cell_type": "code",
   "execution_count": 24,
   "id": "9e059215",
   "metadata": {},
   "outputs": [],
   "source": [
    "model = (tf.keras.models.Sequential())\n",
    "model.add(tf.keras.layers.Dense(100,activation='selu',kernel_initializer='lecun_normal',input_shape=(X_train.shape[-1],)))\n",
    "model.add(tf.keras.layers.BatchNormalization())\n",
    "model.add(tf.keras.layers.Dense(150,activation='selu',kernel_initializer='lecun_normal'))\n",
    "model.add(tf.keras.layers.BatchNormalization())\n",
    "model.add(tf.keras.layers.Dense(80,activation='selu',kernel_initializer='lecun_normal'))\n",
    "model.add(tf.keras.layers.Dense(1,activation='sigmoid'))"
   ]
  },
  {
   "cell_type": "code",
   "execution_count": 25,
   "id": "9f99c440",
   "metadata": {},
   "outputs": [
    {
     "name": "stdout",
     "output_type": "stream",
     "text": [
      "Model: \"sequential\"\n",
      "_________________________________________________________________\n",
      " Layer (type)                Output Shape              Param #   \n",
      "=================================================================\n",
      " dense (Dense)               (None, 100)               3100      \n",
      "                                                                 \n",
      " batch_normalization (BatchN  (None, 100)              400       \n",
      " ormalization)                                                   \n",
      "                                                                 \n",
      " dense_1 (Dense)             (None, 150)               15150     \n",
      "                                                                 \n",
      " batch_normalization_1 (Batc  (None, 150)              600       \n",
      " hNormalization)                                                 \n",
      "                                                                 \n",
      " dense_2 (Dense)             (None, 80)                12080     \n",
      "                                                                 \n",
      " dense_3 (Dense)             (None, 1)                 81        \n",
      "                                                                 \n",
      "=================================================================\n",
      "Total params: 31,411\n",
      "Trainable params: 30,911\n",
      "Non-trainable params: 500\n",
      "_________________________________________________________________\n"
     ]
    }
   ],
   "source": [
    "model.summary()"
   ]
  },
  {
   "cell_type": "code",
   "execution_count": 26,
   "id": "f6bd0d08",
   "metadata": {},
   "outputs": [],
   "source": [
    "model.compile(loss=tf.keras.losses.BinaryCrossentropy(from_logits=False),\n",
    "             optimizer=tf.keras.optimizers.Adam(lr=0.003),\n",
    "             metrics=([tf.keras.metrics.BinaryAccuracy(name='acc')],\n",
    "                     [tf.keras.metrics.Precision(name='prc')],\n",
    "                     [tf.keras.metrics.Recall(name='rcl')]))"
   ]
  },
  {
   "cell_type": "code",
   "execution_count": 27,
   "id": "978fb18b",
   "metadata": {},
   "outputs": [
    {
     "name": "stdout",
     "output_type": "stream",
     "text": [
      "Epoch 1/10\n",
      "14241/14241 [==============================] - 106s 7ms/step - loss: 0.0149 - acc: 0.9981 - prc: 0.0000e+00 - rcl: 0.0000e+00 - val_loss: 0.0707 - val_acc: 0.9979 - val_prc: 0.0000e+00 - val_rcl: 0.0000e+00\n",
      "Epoch 2/10\n",
      "14241/14241 [==============================] - 102s 7ms/step - loss: 0.0131 - acc: 0.9983 - prc: 0.3333 - rcl: 0.0025 - val_loss: 0.6650 - val_acc: 0.9964 - val_prc: 0.0000e+00 - val_rcl: 0.0000e+00\n",
      "Epoch 3/10\n",
      "14241/14241 [==============================] - 94s 7ms/step - loss: 0.0131 - acc: 0.9983 - prc: 0.0000e+00 - rcl: 0.0000e+00 - val_loss: 0.3537 - val_acc: 0.9971 - val_prc: 0.0000e+00 - val_rcl: 0.0000e+00\n",
      "Epoch 4/10\n",
      "14241/14241 [==============================] - 97s 7ms/step - loss: 0.0131 - acc: 0.9983 - prc: 0.0000e+00 - rcl: 0.0000e+00 - val_loss: 0.1978 - val_acc: 0.9982 - val_prc: 0.0000e+00 - val_rcl: 0.0000e+00\n",
      "Epoch 5/10\n",
      "14241/14241 [==============================] - 98s 7ms/step - loss: 0.0131 - acc: 0.9983 - prc: 0.0000e+00 - rcl: 0.0000e+00 - val_loss: 0.9088 - val_acc: 0.9900 - val_prc: 0.0021 - val_rcl: 0.0102\n",
      "Epoch 6/10\n",
      "14241/14241 [==============================] - 96s 7ms/step - loss: 0.0131 - acc: 0.9983 - prc: 0.0000e+00 - rcl: 0.0000e+00 - val_loss: 0.3150 - val_acc: 0.9974 - val_prc: 0.0000e+00 - val_rcl: 0.0000e+00\n",
      "Epoch 7/10\n",
      "14241/14241 [==============================] - 85s 6ms/step - loss: 0.0130 - acc: 0.9983 - prc: 0.0000e+00 - rcl: 0.0000e+00 - val_loss: 0.9603 - val_acc: 0.9977 - val_prc: 0.0000e+00 - val_rcl: 0.0000e+00\n",
      "Epoch 8/10\n",
      "14241/14241 [==============================] - 63s 4ms/step - loss: 0.0130 - acc: 0.9983 - prc: 0.0000e+00 - rcl: 0.0000e+00 - val_loss: 0.0709 - val_acc: 0.9970 - val_prc: 0.0000e+00 - val_rcl: 0.0000e+00\n",
      "Epoch 9/10\n",
      "14241/14241 [==============================] - 59s 4ms/step - loss: 0.0130 - acc: 0.9983 - prc: 0.0000e+00 - rcl: 0.0000e+00 - val_loss: 0.2566 - val_acc: 0.9971 - val_prc: 0.0000e+00 - val_rcl: 0.0000e+00\n",
      "Epoch 10/10\n",
      "14241/14241 [==============================] - 62s 4ms/step - loss: 0.0130 - acc: 0.9983 - prc: 0.0000e+00 - rcl: 0.0000e+00 - val_loss: 0.6897 - val_acc: 0.9970 - val_prc: 0.0000e+00 - val_rcl: 0.0000e+00\n"
     ]
    }
   ],
   "source": [
    "history = model.fit(X_train,y_train,validation_data=(X_test,y_test),epochs=10,batch_size=16,verbose=1,shuffle=False)"
   ]
  },
  {
   "cell_type": "code",
   "execution_count": 28,
   "id": "964df7b8",
   "metadata": {},
   "outputs": [
    {
     "name": "stdout",
     "output_type": "stream",
     "text": [
      "3561/3561 [==============================] - 3s 928us/step\n"
     ]
    }
   ],
   "source": [
    "predictions = model.predict(X_test,batch_size=16,verbose=1)"
   ]
  },
  {
   "cell_type": "code",
   "execution_count": 32,
   "id": "85eb37f4",
   "metadata": {},
   "outputs": [],
   "source": [
    "predicted = np.where(predictions>0.5,1,0)"
   ]
  },
  {
   "cell_type": "code",
   "execution_count": 33,
   "id": "f6cadb0b",
   "metadata": {
    "scrolled": true
   },
   "outputs": [
    {
     "name": "stdout",
     "output_type": "stream",
     "text": [
      "              precision    recall  f1-score   support\n",
      "\n",
      "           0       1.00      1.00      1.00     56864\n",
      "           1       0.00      0.00      0.00        98\n",
      "\n",
      "    accuracy                           1.00     56962\n",
      "   macro avg       0.50      0.50      0.50     56962\n",
      "weighted avg       1.00      1.00      1.00     56962\n",
      "\n"
     ]
    }
   ],
   "source": [
    "print(classification_report(y_test,predicted))"
   ]
  },
  {
   "cell_type": "code",
   "execution_count": 34,
   "id": "e6a1b76f",
   "metadata": {},
   "outputs": [
    {
     "name": "stdout",
     "output_type": "stream",
     "text": [
      "[[56792    72]\n",
      " [   98     0]]\n"
     ]
    }
   ],
   "source": [
    "print(confusion_matrix(y_test,predicted))"
   ]
  },
  {
   "cell_type": "code",
   "execution_count": null,
   "id": "4af6eaa3",
   "metadata": {},
   "outputs": [],
   "source": []
  }
 ],
 "metadata": {
  "kernelspec": {
   "display_name": "Python 3",
   "language": "python",
   "name": "python3"
  },
  "language_info": {
   "codemirror_mode": {
    "name": "ipython",
    "version": 3
   },
   "file_extension": ".py",
   "mimetype": "text/x-python",
   "name": "python",
   "nbconvert_exporter": "python",
   "pygments_lexer": "ipython3",
   "version": "3.8.8"
  }
 },
 "nbformat": 4,
 "nbformat_minor": 5
}
